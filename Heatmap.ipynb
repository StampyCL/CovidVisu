{
 "cells": [
  {
   "cell_type": "code",
   "execution_count": 8,
   "metadata": {},
   "outputs": [],
   "source": [
    "import numpy as np\n",
    "import pandas as pd\n",
    "import matplotlib.pyplot as plt\n",
    "import random\n",
    "import seaborn as sns"
   ]
  },
  {
   "cell_type": "code",
   "execution_count": 9,
   "metadata": {},
   "outputs": [
    {
     "name": "stdout",
     "output_type": "stream",
     "text": [
      "(462, 4)\n"
     ]
    }
   ],
   "source": [
    "df = pd.read_excel(\"Database.xlsx\")\n",
    "index = [\"Treatment name\",\"Treatment type1\",\"n randomized in this arm\",\"Total sample size\"]\n",
    "data = pd.DataFrame(df,columns = index)[(df[\"Treatment type1\"] !='*') & (df[\"n randomized in this arm\"] != \"*\")]\n",
    "data.index = range(len(data))\n",
    "values = [[],[]]\n",
    "for i in [0,1] : \n",
    "    data[index[i]] = data[index[i]].str.lower()\n",
    "    data[index[i]] = data[index[i]].str.replace(', ','+')\n",
    "    values[i] = data[index[i]].unique()\n",
    "print(data.shape)"
   ]
  },
  {
   "cell_type": "code",
   "execution_count": 10,
   "metadata": {},
   "outputs": [],
   "source": [
    "all_values = values[0]\n",
    "for temp in values[1] : \n",
    "    if not temp in all_values :\n",
    "        all_values = np.append(all_values, [temp], axis = 0)\n",
    "l = len(all_values)"
   ]
  },
  {
   "cell_type": "code",
   "execution_count": 11,
   "metadata": {},
   "outputs": [],
   "source": [
    "a = str(data.loc[1,index[1]])\n",
    "b = np.where(all_values == a)"
   ]
  },
  {
   "cell_type": "code",
   "execution_count": 12,
   "metadata": {},
   "outputs": [],
   "source": [
    "patients_nb = np.eye(l)\n",
    "for i in range(0,462) :\n",
    "    treatmt1 = data.loc[i,index[0]]\n",
    "    po1 = np.where(all_values == treatmt1)\n",
    "    treatmt2 = data.loc[i,index[1]]\n",
    "    po2 = np.where(all_values == treatmt2)\n",
    "    #nb = data.loc[i,index[2]]\n",
    "    patients_nb[po1,po2] = patients_nb[po1,po2] + 1\n",
    "patients_nb = patients_nb + np.transpose(patients_nb)"
   ]
  },
  {
   "cell_type": "code",
   "execution_count": 30,
   "metadata": {},
   "outputs": [
    {
     "name": "stdout",
     "output_type": "stream",
     "text": [
      "[[0. 0. 0. ... 0. 0. 0.]\n",
      " [0. 0. 0. ... 0. 0. 0.]\n",
      " [0. 0. 0. ... 0. 0. 0.]\n",
      " ...\n",
      " [0. 0. 0. ... 0. 0. 0.]\n",
      " [0. 0. 0. ... 0. 0. 0.]\n",
      " [0. 0. 0. ... 0. 0. 0.]]\n"
     ]
    },
    {
     "data": {
      "image/png": "[encoded data removed]",
      "text/plain": [
       "<Figure size 432x288 with 2 Axes>"
      ]
     },
     "metadata": {},
     "output_type": "display_data"
    }
   ],
   "source": [
    "#on ajoute une ligne des indices correspondants avant de supprimer tous les 0 pour que les indices ne se confondent pas \n",
    "temp1 = np.arange(239)\n",
    "patients_nb_ind = np.vstack((patients_nb,temp1))\n",
    "temp2 = np.transpose(np.arange(239))\n",
    "temp2 = np.hstack((temp2,0))\n",
    "patients_nb_ind = np.column_stack((patients_nb_ind,temp2))\n",
    "patients_nb_ind = patients_nb_ind - 2*np.eye(240)# on enlève les valeurs dans le diagonale\n",
    "#on enlève tous les colonnes et lignes où il y trop de 0,1,2\n",
    "ind = []# les index des lignes et colonnes qu'on doit enlever\n",
    "for i in range(0,239) : \n",
    "    if np.count_nonzero(patients_nb_ind[i]) <= 2 :\n",
    "        ind.append(i)\n",
    "patients_nb_ind = np.delete(patients_nb_ind,ind,axis=0)\n",
    "\n",
    "#on enleve les indices\n",
    "print(patients_nb_ind[0:35,0:35])\n",
    "\n",
    "sns.set()\n",
    "np.random.seed(0)\n",
    "ax = sns.heatmap(patients_nb_ind[0:35,0:35])\n",
    "plt.savefig('cluster.tif',dpi = 300)\n",
    "plt.show()"
   ]
  }
 ],
 "metadata": {
  "kernelspec": {
   "display_name": "Python 3",
   "language": "python",
   "name": "python3"
  },
  "language_info": {
   "codemirror_mode": {
    "name": "ipython",
    "version": 3
   },
   "file_extension": ".py",
   "mimetype": "text/x-python",
   "name": "python",
   "nbconvert_exporter": "python",
   "pygments_lexer": "ipython3",
   "version": "3.7.3"
  }
 },
 "nbformat": 4,
 "nbformat_minor": 2
}
