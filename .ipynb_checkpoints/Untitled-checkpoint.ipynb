{
 "cells": [
  {
   "cell_type": "code",
   "execution_count": 249,
   "metadata": {},
   "outputs": [],
   "source": [
    "import numpy as np\n",
    "import pandas as pd\n",
    "import matplotlib.pyplot as plt\n",
    "import random\n",
    "import seaborn as sns"
   ]
  },
  {
   "cell_type": "code",
   "execution_count": 235,
   "metadata": {},
   "outputs": [
    {
     "name": "stdout",
     "output_type": "stream",
     "text": [
      "(462, 4)\n"
     ]
    }
   ],
   "source": [
    "df = pd.read_excel(\"Database.xlsx\")\n",
    "index = [\"Treatment name\",\"Treatment type1\",\"n randomized in this arm\",\"Total sample size\"]\n",
    "data = pd.DataFrame(df,columns = index)[(df[\"Treatment type1\"] !='*') & (df[\"n randomized in this arm\"] != \"*\")]\n",
    "data.index = range(len(data))\n",
    "values = [[],[]]\n",
    "for i in [0,1] : \n",
    "    data[index[i]] = data[index[i]].str.lower()\n",
    "    data[index[i]] = data[index[i]].str.replace(', ','+')\n",
    "    values[i] = data[index[i]].unique()\n",
    "print(data.shape)"
   ]
  },
  {
   "cell_type": "code",
   "execution_count": 236,
   "metadata": {},
   "outputs": [],
   "source": [
    "all_values = values[0]\n",
    "for temp in values[1] : \n",
    "    if not temp in all_values :\n",
    "        all_values = np.append(all_values, [temp], axis = 0)\n",
    "l = len(all_values)"
   ]
  },
  {
   "cell_type": "code",
   "execution_count": 237,
   "metadata": {},
   "outputs": [
    {
     "name": "stderr",
     "output_type": "stream",
     "text": [
      "/Users/emiliekong/anaconda3/lib/python3.7/site-packages/ipykernel_launcher.py:1: DeprecationWarning: \n",
      ".ix is deprecated. Please use\n",
      ".loc for label based indexing or\n",
      ".iloc for positional indexing\n",
      "\n",
      "See the documentation here:\n",
      "http://pandas.pydata.org/pandas-docs/stable/indexing.html#ix-indexer-is-deprecated\n",
      "  \"\"\"Entry point for launching an IPython kernel.\n"
     ]
    }
   ],
   "source": [
    "a = str(data.ix[1,index[1]])\n",
    "b = np.where(all_values == a)"
   ]
  },
  {
   "cell_type": "code",
   "execution_count": 240,
   "metadata": {},
   "outputs": [
    {
     "name": "stderr",
     "output_type": "stream",
     "text": [
      "/Users/emiliekong/anaconda3/lib/python3.7/site-packages/ipykernel_launcher.py:3: DeprecationWarning: \n",
      ".ix is deprecated. Please use\n",
      ".loc for label based indexing or\n",
      ".iloc for positional indexing\n",
      "\n",
      "See the documentation here:\n",
      "http://pandas.pydata.org/pandas-docs/stable/indexing.html#ix-indexer-is-deprecated\n",
      "  This is separate from the ipykernel package so we can avoid doing imports until\n",
      "/Users/emiliekong/anaconda3/lib/python3.7/site-packages/ipykernel_launcher.py:5: DeprecationWarning: \n",
      ".ix is deprecated. Please use\n",
      ".loc for label based indexing or\n",
      ".iloc for positional indexing\n",
      "\n",
      "See the documentation here:\n",
      "http://pandas.pydata.org/pandas-docs/stable/indexing.html#ix-indexer-is-deprecated\n",
      "  \"\"\"\n",
      "/Users/emiliekong/anaconda3/lib/python3.7/site-packages/ipykernel_launcher.py:7: DeprecationWarning: \n",
      ".ix is deprecated. Please use\n",
      ".loc for label based indexing or\n",
      ".iloc for positional indexing\n",
      "\n",
      "See the documentation here:\n",
      "http://pandas.pydata.org/pandas-docs/stable/indexing.html#ix-indexer-is-deprecated\n",
      "  import sys\n"
     ]
    }
   ],
   "source": [
    "patients_nb = np.eye(l)\n",
    "for i in range(0,462) :\n",
    "    treatmt1 = data.ix[i,index[0]]\n",
    "    po1 = np.where(all_values == treatmt1)\n",
    "    treatmt2 = data.ix[i,index[1]]\n",
    "    po2 = np.where(all_values == treatmt2)\n",
    "    nb = data.ix[i,index[2]]\n",
    "    patients_nb[po1,po2] = patients_nb[po1,po2] + nb \n",
    "patients_nb = patients_nb + np.transpose(patients_nb)"
   ]
  },
  {
   "cell_type": "code",
   "execution_count": 248,
   "metadata": {},
   "outputs": [
    {
     "data": {
      "text/plain": [
       "[[0, 0, 117],\n",
       " [0, 1, 136],\n",
       " [0, 2, 49],\n",
       " [0, 3, 194],\n",
       " [0, 4, 132],\n",
       " [0, 5, 52],\n",
       " [0, 6, 126],\n",
       " [0, 7, 155],\n",
       " [0, 8, 70],\n",
       " [0, 9, 153],\n",
       " [0, 10, 176],\n",
       " [0, 11, 169],\n",
       " [0, 12, 168],\n",
       " [0, 13, 148],\n",
       " [0, 14, 61],\n",
       " [0, 15, 124],\n",
       " [0, 16, 36],\n",
       " [0, 17, 28],\n",
       " [0, 18, 89],\n",
       " [0, 19, 94],\n",
       " [0, 20, 82],\n",
       " [0, 21, 196],\n",
       " [0, 22, 172],\n",
       " [0, 23, 71],\n",
       " [1, 0, 195],\n",
       " [1, 1, 196],\n",
       " [1, 2, 190],\n",
       " [1, 3, 77],\n",
       " [1, 4, 133],\n",
       " [1, 5, 139],\n",
       " [1, 6, 107],\n",
       " [1, 7, 139],\n",
       " [1, 8, 167],\n",
       " [1, 9, 41],\n",
       " [1, 10, 185],\n",
       " [1, 11, 43],\n",
       " [1, 12, 123],\n",
       " [1, 13, 102],\n",
       " [1, 14, 136],\n",
       " [1, 15, 135],\n",
       " [1, 16, 44],\n",
       " [1, 17, 107],\n",
       " [1, 18, 119],\n",
       " [1, 19, 48],\n",
       " [1, 20, 130],\n",
       " [1, 21, 47],\n",
       " [1, 22, 29],\n",
       " [1, 23, 63],\n",
       " [2, 0, 86],\n",
       " [2, 1, 94],\n",
       " [2, 2, 179],\n",
       " [2, 3, 30],\n",
       " [2, 4, 152],\n",
       " [2, 5, 195],\n",
       " [2, 6, 131],\n",
       " [2, 7, 97],\n",
       " [2, 8, 166],\n",
       " [2, 9, 101],\n",
       " [2, 10, 44],\n",
       " [2, 11, 193],\n",
       " [2, 12, 39],\n",
       " [2, 13, 36],\n",
       " [2, 14, 67],\n",
       " [2, 15, 82],\n",
       " [2, 16, 169],\n",
       " [2, 17, 63],\n",
       " [2, 18, 146],\n",
       " [2, 19, 70],\n",
       " [2, 20, 88],\n",
       " [2, 21, 186],\n",
       " [2, 22, 158],\n",
       " [2, 23, 113],\n",
       " [3, 0, 99],\n",
       " [3, 1, 14],\n",
       " [3, 2, 119],\n",
       " [3, 3, 149],\n",
       " [3, 4, 178],\n",
       " [3, 5, 141],\n",
       " [3, 6, 88],\n",
       " [3, 7, 104],\n",
       " [3, 8, 63],\n",
       " [3, 9, 54],\n",
       " [3, 10, 173],\n",
       " [3, 11, 142],\n",
       " [3, 12, 15],\n",
       " [3, 13, 178],\n",
       " [3, 14, 21],\n",
       " [3, 15, 125],\n",
       " [3, 16, 46],\n",
       " [3, 17, 13],\n",
       " [3, 18, 90],\n",
       " [3, 19, 95],\n",
       " [3, 20, 184],\n",
       " [3, 21, 158],\n",
       " [3, 22, 155],\n",
       " [3, 23, 95],\n",
       " [4, 0, 74],\n",
       " [4, 1, 25],\n",
       " [4, 2, 179],\n",
       " [4, 3, 102],\n",
       " [4, 4, 116],\n",
       " [4, 5, 32],\n",
       " [4, 6, 115],\n",
       " [4, 7, 78],\n",
       " [4, 8, 152],\n",
       " [4, 9, 11],\n",
       " [4, 10, 58],\n",
       " [4, 11, 24],\n",
       " [4, 12, 183],\n",
       " [4, 13, 97],\n",
       " [4, 14, 136],\n",
       " [4, 15, 71],\n",
       " [4, 16, 160],\n",
       " [4, 17, 111],\n",
       " [4, 18, 135],\n",
       " [4, 19, 174],\n",
       " [4, 20, 70],\n",
       " [4, 21, 94],\n",
       " [4, 22, 134],\n",
       " [4, 23, 180],\n",
       " [5, 0, 85],\n",
       " [5, 1, 11],\n",
       " [5, 2, 70],\n",
       " [5, 3, 139],\n",
       " [5, 4, 88],\n",
       " [5, 5, 25],\n",
       " [5, 6, 99],\n",
       " [5, 7, 122],\n",
       " [5, 8, 164],\n",
       " [5, 9, 111],\n",
       " [5, 10, 11],\n",
       " [5, 11, 153],\n",
       " [5, 12, 115],\n",
       " [5, 13, 48],\n",
       " [5, 14, 168],\n",
       " [5, 15, 122],\n",
       " [5, 16, 169],\n",
       " [5, 17, 144],\n",
       " [5, 18, 107],\n",
       " [5, 19, 86],\n",
       " [5, 20, 165],\n",
       " [5, 21, 81],\n",
       " [5, 22, 149],\n",
       " [5, 23, 57],\n",
       " [6, 0, 24],\n",
       " [6, 1, 39],\n",
       " [6, 2, 128],\n",
       " [6, 3, 10],\n",
       " [6, 4, 42],\n",
       " [6, 5, 167],\n",
       " [6, 6, 12],\n",
       " [6, 7, 148],\n",
       " [6, 8, 106],\n",
       " [6, 9, 65],\n",
       " [6, 10, 126],\n",
       " [6, 11, 91],\n",
       " [6, 12, 124],\n",
       " [6, 13, 143],\n",
       " [6, 14, 110],\n",
       " [6, 15, 115],\n",
       " [6, 16, 37],\n",
       " [6, 17, 19],\n",
       " [6, 18, 97],\n",
       " [6, 19, 199],\n",
       " [6, 20, 195],\n",
       " [6, 21, 183],\n",
       " [6, 22, 199],\n",
       " [6, 23, 83]]"
      ]
     },
     "execution_count": 248,
     "metadata": {},
     "output_type": "execute_result"
    }
   ],
   "source": [
    "[[i,j,random.randint(10,200)] for i in range(7) for j in range(24)]"
   ]
  },
  {
   "cell_type": "code",
   "execution_count": 255,
   "metadata": {},
   "outputs": [
    {
     "data": {
      "image/png": "[encoded data removed]",
      "text/plain": [
       "<Figure size 432x288 with 2 Axes>"
      ]
     },
     "metadata": {},
     "output_type": "display_data"
    }
   ],
   "source": [
    "sns.set()\n",
    "np.random.seed(0)\n",
    "ax = sns.heatmap(patients_nb)\n",
    "plt.savefig('cluster.tif',dpi = 300)\n",
    "plt.show()\n"
   ]
  },
  {
   "cell_type": "code",
   "execution_count": null,
   "metadata": {},
   "outputs": [],
   "source": []
  }
 ],
 "metadata": {
  "kernelspec": {
   "display_name": "Python 3",
   "language": "python",
   "name": "python3"
  },
  "language_info": {
   "codemirror_mode": {
    "name": "ipython",
    "version": 3
   },
   "file_extension": ".py",
   "mimetype": "text/x-python",
   "name": "python",
   "nbconvert_exporter": "python",
   "pygments_lexer": "ipython3",
   "version": "3.7.3"
  }
 },
 "nbformat": 4,
 "nbformat_minor": 2
}
